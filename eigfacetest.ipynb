{
 "cells": [
  {
   "cell_type": "code",
   "execution_count": null,
   "id": "87fe0fce",
   "metadata": {},
   "outputs": [],
   "source": []
  },
  {
   "cell_type": "code",
   "execution_count": 2,
   "id": "1b42e5f0",
   "metadata": {},
   "outputs": [
    {
     "name": "stdout",
     "output_type": "stream",
     "text": [
      "Enter an image number to test: 25\n",
      "Expected image: 25\n"
     ]
    },
    {
     "data": {
      "image/png": "[encoded data removed]",
      "text/plain": [
       "<Figure size 640x480 with 2 Axes>"
      ]
     },
     "metadata": {},
     "output_type": "display_data"
    }
   ],
   "source": [
    "import matplotlib.pyplot as plt\n",
    "import numpy as np\n",
    "import os\n",
    "import cv2\n",
    "\n",
    "\n",
    "os.chdir(\"C:\\\\Users\\\\sabba\\\\Documents\\\\lfwcrop_grey\\\\lfwcrop_grey\\\\faces\")\n",
    "\n",
    "#Place image into respective subplots\n",
    "def put_image(axes, data):\n",
    "    axes.set_xticks([])\n",
    "    axes.set_yticks([])\n",
    "    axes.xaxis.set_tick_params(labelbottom = False)\n",
    "    axes.yaxis.set_tick_params(labelbottom = False)\n",
    "    axes.imshow(data.reshape(64, 64), cmap = 'gray')\n",
    "\n",
    "#Define constants    \n",
    "numPhotos = 1000\n",
    "rows, cols = 10, 10\n",
    "\n",
    "#This is the number of eigenfaces used as the basis for the face space\n",
    "numEigface = 25\n",
    "\n",
    "\n",
    "#Retrieve the file names of all photos\n",
    "nameList = os.listdir()[0: numPhotos]\n",
    "\n",
    "\n",
    "#Ask the user what image number to test\n",
    "testimgnum = int(input(\"Enter an image number to test: \"))\n",
    "testimg = plt.imread(nameList[testimgnum]).flatten()\n",
    "\n",
    "\n",
    "\n",
    "#Adjust subplot settings\n",
    "fig, img = plt.subplots(1, 2)\n",
    "fig.subplots_adjust(hspace = 0)\n",
    "photoarr = []\n",
    "\n",
    "\n",
    "#Read data from each image and store them as a row vector\n",
    "for image in nameList:\n",
    "    data = plt.imread(image).flatten()\n",
    "    photoarr.append(data)\n",
    "\n",
    "#Find mean face\n",
    "mean = np.mean(photoarr, axis = 0)\n",
    "\n",
    "#Mean center the data\n",
    "for i in range(0, numPhotos):\n",
    "    photoarr[i] = photoarr[i] - mean\n",
    "\n",
    "#Find the SVD decomposition of A\n",
    "U, S, V = np.linalg.svd(np.transpose(photoarr))\n",
    "\n",
    "#Transpose it back for easy row access\n",
    "U = np.transpose(U)\n",
    "\n",
    "#Truncate U to contain only a certain number of eigenfaces\n",
    "U = U[:numEigface]\n",
    "\n",
    "\n",
    "#Normalize rows of U^T (columns of U)\n",
    "for index in range(0, numEigface):\n",
    "    U[index] = U[index] * (1/np.linalg.norm(U[index]))\n",
    "\n",
    "\n",
    "#Find weights matrix\n",
    "weights = np.dot(photoarr, np.transpose(U))\n",
    "\n",
    "#Find projections of original faces (reconstructed face)\n",
    "reconstructed = np.dot(weights, U)\n",
    "\n",
    "\n",
    "\n",
    "#Now we project the unknown image onto the face space\n",
    "proj = np.dot(testimg - mean, np.transpose(U))\n",
    "\n",
    "\n",
    "#Find the minimum error of the projection and record the minimum value and image number\n",
    "min = np.linalg.norm(weights[0] - proj) \n",
    "finalindex = 0\n",
    "for i in range(0, numPhotos):\n",
    "    error = np.linalg.norm(weights[i] - proj)\n",
    "    if(error < min):\n",
    "        min = error \n",
    "        finalindex = i\n",
    "\n",
    "        \n",
    "#Print the image number\n",
    "print(\"Expected image: \" + str(finalindex))\n",
    "\n",
    "\n",
    "#Display the original image (left) and reconstructed image (right)\n",
    "put_image(img[0], testimg)\n",
    "put_image(img[1], np.transpose(np.dot(weights[finalindex], U)))\n",
    "\n"
   ]
  },
  {
   "cell_type": "code",
   "execution_count": null,
   "id": "4a0698d5",
   "metadata": {},
   "outputs": [],
   "source": []
  },
  {
   "cell_type": "code",
   "execution_count": null,
   "id": "0178b538",
   "metadata": {},
   "outputs": [],
   "source": []
  },
  {
   "cell_type": "code",
   "execution_count": null,
   "id": "e1ff5b46",
   "metadata": {},
   "outputs": [],
   "source": []
  }
 ],
 "metadata": {
  "kernelspec": {
   "display_name": "Python 3 (ipykernel)",
   "language": "python",
   "name": "python3"
  },
  "language_info": {
   "codemirror_mode": {
    "name": "ipython",
    "version": 3
   },
   "file_extension": ".py",
   "mimetype": "text/x-python",
   "name": "python",
   "nbconvert_exporter": "python",
   "pygments_lexer": "ipython3",
   "version": "3.11.3"
  }
 },
 "nbformat": 4,
 "nbformat_minor": 5
}
